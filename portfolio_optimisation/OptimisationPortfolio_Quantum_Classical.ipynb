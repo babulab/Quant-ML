{
 "cells": [
  {
   "cell_type": "markdown",
   "metadata": {},
   "source": [
    "# Portfolio Optimisation with Quantum and Classical Approaches\n",
    "\n",
    "This notebook explores portfolio optimisation using both binary and continuous weight approaches. We aim to determine the optimal asset allocation in a portfolio to balance return and risk, leveraging both classical and quantum algorithms for comparison.\n",
    "\n",
    "\n",
    "### Objectives\n",
    "\n",
    "-   Binary Weight Optimisation:\n",
    "        Here, asset weights are constrained to binary values (0 or 1), where each selected asset is either included in the portfolio or excluded.\n",
    "        We implement:\n",
    "    - Classical Optimisation:  Using integer programming with cvxpy, enforcing binary constraints to select the optimal assets under a fixed budget constraint. Additionally, we use NumPyMinimumEigensolver, a classical eigensolver, to solve the Ising representation of the problem.\n",
    "    - Quantum Optimisation: Using quantum-inspired solvers like QUBO and Ising formulations to handle binary constraints, leveraging algorithms such as SamplingVQE.\n",
    "\n",
    "- Continuous Weight Optimisation:\n",
    "        In this approach, asset weights are continuous, summing to 1, to represent fractional investments in each asset.\n",
    "        We implement:\n",
    "    - Classical Optimisation: Using scipy.optimize.minimize (SLSQP method) to perform continuous optimisation, with constraints directly handled to ensure that allocations are fractional and meet budget constraints.\n",
    "    - Quantum Optimisation: Leveraging QUBO-based quantum approaches to handle the continuous optimisation problem.\n"
   ]
  },
  {
   "cell_type": "code",
   "execution_count": 1,
   "metadata": {},
   "outputs": [],
   "source": [
    "from qiskit.circuit.library import TwoLocal\n",
    "from qiskit.circuit.library import EfficientSU2\n",
    "\n",
    "from qiskit.result import QuasiDistribution\n",
    "from qiskit_aer.primitives import Sampler\n",
    "from qiskit_algorithms import NumPyMinimumEigensolver, QAOA, SamplingVQE, VQE\n",
    "from qiskit_algorithms.optimizers import COBYLA\n",
    "from qiskit_finance.applications.optimization import PortfolioOptimization\n",
    "from qiskit_optimization.algorithms import MinimumEigenOptimizer\n",
    "import numpy as np\n",
    "import matplotlib.pyplot as plt\n",
    "import datetime\n",
    "import datetime as dt\n",
    "import pandas as pd\n",
    "import yfinance as yf\n",
    "from qiskit.primitives import Sampler, Estimator\n",
    "from scipy.optimize import minimize\n",
    "from qiskit_optimization.converters import QuadraticProgramToQubo\n",
    "from qiskit_algorithms.utils import algorithm_globals\n",
    "\n",
    "algorithm_globals.random_seed = 1234\n"
   ]
  },
  {
   "cell_type": "markdown",
   "metadata": {},
   "source": [
    "In this exercise we will only do portfolio optimisation for the energy market, so we will need to collect data on various energy-related stocks and indices:"
   ]
  },
  {
   "cell_type": "code",
   "execution_count": 2,
   "metadata": {},
   "outputs": [
    {
     "name": "stderr",
     "output_type": "stream",
     "text": [
      "[*********************100%***********************]  1 of 1 completed\n",
      "[*********************100%***********************]  1 of 1 completed\n",
      "[*********************100%***********************]  1 of 1 completed\n",
      "[*********************100%***********************]  1 of 1 completed\n"
     ]
    }
   ],
   "source": [
    "start_date = dt.datetime(2023, 1, 1)\n",
    "end_date =  dt.datetime(2024, 1, 1)\n",
    "\n",
    "def get_data(ticker):\n",
    "    return pd.DataFrame(yf.download(ticker, start=start_date, end=end_date))['Adj Close']\n",
    "\n",
    "# Energy Stocks\n",
    "energy_stocks = ['ENPH', 'FSLR', 'SHEL','XOM' ] #\n",
    "stock_data_direct = {stock: get_data(stock) for stock in energy_stocks}\n",
    "\n",
    "stock_data_direct = pd.DataFrame.from_dict(stock_data_direct)\n",
    "mu = stock_data_direct.pct_change(1).dropna().mean().values #mean return\n",
    "sigma  = (stock_data_direct/stock_data_direct.shift(1)).dropna().cov().values #covariance return\n",
    "\n",
    "num_assets = len(stock_data_direct.columns)"
   ]
  },
  {
   "cell_type": "code",
   "execution_count": 3,
   "metadata": {},
   "outputs": [],
   "source": [
    "q = 0.5  # set risk factor\n",
    "budget = num_assets // 2  # set budget\n",
    "\n",
    "portfolio = PortfolioOptimization(\n",
    "    expected_returns=mu, covariances=sigma, risk_factor=q, budget=budget\n",
    "    )\n",
    "qp = portfolio.to_quadratic_program()\n",
    "\n",
    "conv = QuadraticProgramToQubo()\n",
    "\n",
    "qubit_op = conv.convert(qp) #Here I convert to QUBO and remove the constraints\n",
    "op, offset = qubit_op.to_ising()"
   ]
  },
  {
   "cell_type": "code",
   "execution_count": 4,
   "metadata": {},
   "outputs": [],
   "source": [
    "def print_result(result):\n",
    "    selection = result.x\n",
    "    value = result.fval\n",
    "    print(\"Optimal: selection {}, value {:.6f}\".format(selection, value))\n",
    "\n",
    "    eigenstate = result.min_eigen_solver_result.eigenstate\n",
    "    probabilities = (\n",
    "        eigenstate.binary_probabilities()\n",
    "        if isinstance(eigenstate, QuasiDistribution)\n",
    "        else {k: np.abs(v) ** 2 for k, v in eigenstate.to_dict().items()}\n",
    "    )\n",
    "    print(\"\\n----------------- Full result ---------------------\")\n",
    "    print(\"selection\\tvalue\\t\\tprobability\")\n",
    "    print(\"---------------------------------------------------\")\n",
    "    probabilities = sorted(probabilities.items(), key=lambda x: x[1], reverse=True)\n",
    "\n",
    "    for k, v in probabilities:\n",
    "        x = np.array([int(i) for i in list(reversed(k))])\n",
    "        value = portfolio.to_quadratic_program().objective.evaluate(x)\n",
    "        print(\"%10s\\t%.6f\\t\\t%.6f\" % (x, value, v))\n",
    "\n"
   ]
  },
  {
   "cell_type": "markdown",
   "metadata": {},
   "source": [
    "# Binary Optimisation"
   ]
  },
  {
   "cell_type": "markdown",
   "metadata": {},
   "source": [
    "NumPyMinimumEigensolver using QUBO representation"
   ]
  },
  {
   "cell_type": "code",
   "execution_count": 5,
   "metadata": {},
   "outputs": [
    {
     "name": "stdout",
     "output_type": "stream",
     "text": [
      "Numpy Minimum Eigensolver Optimal Portfolio Allocation: [0. 1. 1. 0.]\n",
      "Numpy Minimum Eigensolver Optimal Portfolio Value: -0.0013783205095481562\n"
     ]
    }
   ],
   "source": [
    "exact_mes = NumPyMinimumEigensolver()\n",
    "exact_eigensolver = MinimumEigenOptimizer(exact_mes)\n",
    "result = exact_eigensolver.solve(qp)\n",
    "\n",
    "#print_result(result)\n",
    "print(\"Numpy Minimum Eigensolver Optimal Portfolio Allocation:\", result.x)\n",
    "print(\"Numpy Minimum Eigensolver Optimal Portfolio Value:\", result.fval)"
   ]
  },
  {
   "cell_type": "markdown",
   "metadata": {},
   "source": [
    "## Solution using SamplingVQE"
   ]
  },
  {
   "cell_type": "code",
   "execution_count": 6,
   "metadata": {},
   "outputs": [
    {
     "name": "stdout",
     "output_type": "stream",
     "text": [
      "SamplingVQE Optimal Portfolio Allocation: [0. 1. 1. 0.]\n",
      "SamplingVQE Optimal Portfolio Value: -0.0013783205095481562\n"
     ]
    }
   ],
   "source": [
    "optimizer = COBYLA(maxiter=500)\n",
    "ansatz = TwoLocal(num_assets, \"ry\", \"cz\", reps=3, entanglement=\"full\")\n",
    "svqe_mes = SamplingVQE(sampler=Sampler(), ansatz=ansatz, optimizer=optimizer)\n",
    "svqe = MinimumEigenOptimizer(svqe_mes)\n",
    "svqe_result = svqe.solve(qp)\n",
    "#print(svqe_result.prettyprint())\n",
    "#print('-------------------')\n",
    "#print_result(svqe_result)\n",
    "\n",
    "print(\"SamplingVQE Optimal Portfolio Allocation:\", svqe_result.x)\n",
    "print(\"SamplingVQE Optimal Portfolio Value:\", svqe_result.fval)"
   ]
  },
  {
   "cell_type": "markdown",
   "metadata": {},
   "source": [
    "## Classic binary optimisation, using cvxpy"
   ]
  },
  {
   "cell_type": "code",
   "execution_count": 7,
   "metadata": {},
   "outputs": [
    {
     "name": "stdout",
     "output_type": "stream",
     "text": [
      "Restricted license - for non-production use only - expires 2025-11-24\n",
      "Binary Portfolio Allocation: [0. 1. 1. 0.]\n",
      "Portfolio Objective Value: -0.0013783205095481562\n"
     ]
    }
   ],
   "source": [
    "import cvxpy as cp\n",
    "# Define the binary optimization variables\n",
    "x = cp.Variable(num_assets, boolean=True)\n",
    "# Define the portfolio objective\n",
    "objective = cp.Maximize(mu @ x - q * cp.quad_form(x, sigma))\n",
    "\n",
    "\n",
    "# Define the constraints\n",
    "constraints = [cp.sum(x) == budget] \n",
    "\n",
    "problem = cp.Problem(objective, constraints)\n",
    "problem.solve()\n",
    "\n",
    "print(\"Binary Portfolio Allocation:\", x.value)\n",
    "print(\"Portfolio Objective Value:\", - problem.value)"
   ]
  },
  {
   "cell_type": "markdown",
   "metadata": {},
   "source": [
    "# Continuous Optimisation\n",
    "## Classic optimisation using constrained minimisation"
   ]
  },
  {
   "cell_type": "code",
   "execution_count": 8,
   "metadata": {},
   "outputs": [
    {
     "name": "stdout",
     "output_type": "stream",
     "text": [
      "Optimal Portfolio Weights (Classical): [0.         0.36498759 0.37109238 0.26392003]\n",
      "Classical objective value: -0.0006492673615752576\n"
     ]
    }
   ],
   "source": [
    "def mean_variance_optimization(cov_matrix, expected_returns, lambda_risk):\n",
    "    n_assets = len(expected_returns)    \n",
    "    # Define the objective function (to minimize)\n",
    "    def objective(weights):\n",
    "        portfolio_variance = np.dot(weights.T, np.dot(cov_matrix, weights))\n",
    "        return lambda_risk * portfolio_variance - np.dot(weights, expected_returns)\n",
    "    \n",
    "    # Constraints: weights sum to 1\n",
    "    constraints = ({'type': 'eq', 'fun': lambda x: np.sum(x) - 1})\n",
    "    # Bounds: no short selling (weights between 0 and 1)\n",
    "    bounds = tuple((0, 1) for _ in range(n_assets))\n",
    "    # Initial guess \n",
    "    initial_weights = np.array(n_assets * [1. / n_assets])    \n",
    "    result = minimize(objective, initial_weights, method='SLSQP', bounds=bounds, constraints=constraints)\n",
    "    \n",
    "    return result.x, result.fun \n",
    "\n",
    "# Run the classical optimization\n",
    "optimal_weights_classical, value_objective = mean_variance_optimization(sigma, mu, q)\n",
    "\n",
    "print(\"Optimal Portfolio Weights (Classical):\", optimal_weights_classical)\n",
    "print(f\"Classical objective value: {value_objective}\")\n",
    "\n"
   ]
  },
  {
   "cell_type": "markdown",
   "metadata": {},
   "source": [
    "## VQE optimisation using constrained minimisation\n",
    "(in development)"
   ]
  }
 ],
 "metadata": {
  "kernelspec": {
   "display_name": "QML_env",
   "language": "python",
   "name": "python3"
  },
  "language_info": {
   "codemirror_mode": {
    "name": "ipython",
    "version": 3
   },
   "file_extension": ".py",
   "mimetype": "text/x-python",
   "name": "python",
   "nbconvert_exporter": "python",
   "pygments_lexer": "ipython3",
   "version": "3.12.0"
  }
 },
 "nbformat": 4,
 "nbformat_minor": 2
}
